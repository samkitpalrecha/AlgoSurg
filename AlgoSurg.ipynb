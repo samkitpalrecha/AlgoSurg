{
  "cells": [
    {
      "cell_type": "markdown",
      "metadata": {
        "id": "nwXRuTLVP62l"
      },
      "source": [
        "# *WE will be using U-NET ARCHITECTURE for our image segmentation task*"
      ]
    },
    {
      "cell_type": "markdown",
      "metadata": {
        "id": "gNktzayJQusg"
      },
      "source": [
        "installing necessary libraries"
      ]
    },
    {
      "cell_type": "code",
      "execution_count": 1,
      "metadata": {
        "colab": {
          "base_uri": "https://localhost:8080/"
        },
        "id": "K-hsrKsVK1Sc",
        "outputId": "53e8faa8-a3ac-4a0a-c84d-7659b3bf8122"
      },
      "outputs": [
        {
          "output_type": "stream",
          "name": "stdout",
          "text": [
            "Requirement already satisfied: opencv-python in /usr/local/lib/python3.10/dist-packages (4.8.0.76)\n",
            "Requirement already satisfied: numpy>=1.21.2 in /usr/local/lib/python3.10/dist-packages (from opencv-python) (1.23.5)\n"
          ]
        }
      ],
      "source": [
        "pip install opencv-python"
      ]
    },
    {
      "cell_type": "code",
      "execution_count": 2,
      "metadata": {
        "colab": {
          "base_uri": "https://localhost:8080/"
        },
        "id": "RWTwu9dKK7Z1",
        "outputId": "4112bb68-e2da-47b5-901b-8f4c6d7d5e06"
      },
      "outputs": [
        {
          "output_type": "stream",
          "name": "stdout",
          "text": [
            "Requirement already satisfied: albumentations in /usr/local/lib/python3.10/dist-packages (1.3.1)\n",
            "Requirement already satisfied: numpy>=1.11.1 in /usr/local/lib/python3.10/dist-packages (from albumentations) (1.23.5)\n",
            "Requirement already satisfied: scipy>=1.1.0 in /usr/local/lib/python3.10/dist-packages (from albumentations) (1.11.4)\n",
            "Requirement already satisfied: scikit-image>=0.16.1 in /usr/local/lib/python3.10/dist-packages (from albumentations) (0.19.3)\n",
            "Requirement already satisfied: PyYAML in /usr/local/lib/python3.10/dist-packages (from albumentations) (6.0.1)\n",
            "Requirement already satisfied: qudida>=0.0.4 in /usr/local/lib/python3.10/dist-packages (from albumentations) (0.0.4)\n",
            "Requirement already satisfied: opencv-python-headless>=4.1.1 in /usr/local/lib/python3.10/dist-packages (from albumentations) (4.9.0.80)\n",
            "Requirement already satisfied: scikit-learn>=0.19.1 in /usr/local/lib/python3.10/dist-packages (from qudida>=0.0.4->albumentations) (1.2.2)\n",
            "Requirement already satisfied: typing-extensions in /usr/local/lib/python3.10/dist-packages (from qudida>=0.0.4->albumentations) (4.9.0)\n",
            "Requirement already satisfied: networkx>=2.2 in /usr/local/lib/python3.10/dist-packages (from scikit-image>=0.16.1->albumentations) (3.2.1)\n",
            "Requirement already satisfied: pillow!=7.1.0,!=7.1.1,!=8.3.0,>=6.1.0 in /usr/local/lib/python3.10/dist-packages (from scikit-image>=0.16.1->albumentations) (9.4.0)\n",
            "Requirement already satisfied: imageio>=2.4.1 in /usr/local/lib/python3.10/dist-packages (from scikit-image>=0.16.1->albumentations) (2.31.6)\n",
            "Requirement already satisfied: tifffile>=2019.7.26 in /usr/local/lib/python3.10/dist-packages (from scikit-image>=0.16.1->albumentations) (2024.1.30)\n",
            "Requirement already satisfied: PyWavelets>=1.1.1 in /usr/local/lib/python3.10/dist-packages (from scikit-image>=0.16.1->albumentations) (1.5.0)\n",
            "Requirement already satisfied: packaging>=20.0 in /usr/local/lib/python3.10/dist-packages (from scikit-image>=0.16.1->albumentations) (23.2)\n",
            "Requirement already satisfied: joblib>=1.1.1 in /usr/local/lib/python3.10/dist-packages (from scikit-learn>=0.19.1->qudida>=0.0.4->albumentations) (1.3.2)\n",
            "Requirement already satisfied: threadpoolctl>=2.0.0 in /usr/local/lib/python3.10/dist-packages (from scikit-learn>=0.19.1->qudida>=0.0.4->albumentations) (3.2.0)\n"
          ]
        }
      ],
      "source": [
        "pip install albumentations"
      ]
    },
    {
      "cell_type": "code",
      "execution_count": 3,
      "metadata": {
        "colab": {
          "base_uri": "https://localhost:8080/"
        },
        "id": "R_1VR4eqSPWT",
        "outputId": "f868a28e-0e51-42e1-e291-32215fafcf83"
      },
      "outputs": [
        {
          "output_type": "stream",
          "name": "stdout",
          "text": [
            "Collecting keras-applications\n",
            "  Downloading Keras_Applications-1.0.8-py3-none-any.whl (50 kB)\n",
            "\u001b[?25l     \u001b[90m━━━━━━━━━━━━━━━━━━━━━━━━━━━━━━━━━━━━━━━━\u001b[0m \u001b[32m0.0/50.7 kB\u001b[0m \u001b[31m?\u001b[0m eta \u001b[36m-:--:--\u001b[0m\r\u001b[2K     \u001b[91m━━━━━━━━━━━━━━━━━━━━━━━━━━━━━━━━\u001b[0m\u001b[90m╺\u001b[0m\u001b[90m━━━━━━━\u001b[0m \u001b[32m41.0/50.7 kB\u001b[0m \u001b[31m1.4 MB/s\u001b[0m eta \u001b[36m0:00:01\u001b[0m\r\u001b[2K     \u001b[90m━━━━━━━━━━━━━━━━━━━━━━━━━━━━━━━━━━━━━━━━\u001b[0m \u001b[32m50.7/50.7 kB\u001b[0m \u001b[31m875.7 kB/s\u001b[0m eta \u001b[36m0:00:00\u001b[0m\n",
            "\u001b[?25hRequirement already satisfied: numpy>=1.9.1 in /usr/local/lib/python3.10/dist-packages (from keras-applications) (1.23.5)\n",
            "Requirement already satisfied: h5py in /usr/local/lib/python3.10/dist-packages (from keras-applications) (3.9.0)\n",
            "Installing collected packages: keras-applications\n",
            "Successfully installed keras-applications-1.0.8\n"
          ]
        }
      ],
      "source": [
        "!pip install keras-applications"
      ]
    },
    {
      "cell_type": "markdown",
      "metadata": {
        "id": "4xrxQ9htQzM5"
      },
      "source": [
        "## Here we will be carrying out our 1st step, i.e., **Dataset Preparation**"
      ]
    },
    {
      "cell_type": "code",
      "execution_count": 4,
      "metadata": {
        "colab": {
          "base_uri": "https://localhost:8080/",
          "height": 529
        },
        "id": "xaIz2yG4K9Ty",
        "outputId": "7e370e83-eccc-45d6-a0d4-ee1f78a42202"
      },
      "outputs": [
        {
          "output_type": "display_data",
          "data": {
            "text/plain": [
              "<PIL.Image.Image image mode=RGB size=256x256>"
            ],
            "image/png": "[encoded data removed]"
          },
          "metadata": {}
        },
        {
          "output_type": "display_data",
          "data": {
            "text/plain": [
              "<PIL.Image.Image image mode=L size=256x256>"
            ],
            "image/png": "[encoded data removed]"
          },
          "metadata": {}
        }
      ],
      "source": [
        "import numpy as np\n",
        "import matplotlib.pyplot as plt\n",
        "import cv2\n",
        "from google.colab.patches import cv2_imshow\n",
        "\n",
        "# Creating a function to generate synthetic RGB images with simple shapes, along with their masks\n",
        "def generate_image_with_mask(size=(256, 256), num_shapes=1):\n",
        "    # Background is white (255) in RGB\n",
        "    image = np.ones((size[0], size[1], 3), dtype=np.uint8) * 255\n",
        "    # Initialize mask, background is black\n",
        "    mask = np.zeros((size[0], size[1]), dtype=np.uint8)\n",
        "\n",
        "    for _ in range(num_shapes):\n",
        "        # randomly choose between circle, square or triangle, using np.random module\n",
        "        shape = np.random.choice(['circle', 'square', 'triangle'])\n",
        "\n",
        "        if shape == 'circle':\n",
        "            # select the coordinates of the center randomly\n",
        "            center = np.random.randint(50, size[0] - 50, 2)\n",
        "            # select the radius of the circle randomly\n",
        "            radius = np.random.randint(20, 80)\n",
        "            # generate a random color for the circle\n",
        "            color = tuple(np.random.randint(0, 256, 3).tolist())\n",
        "            # Draw filled circle\n",
        "            cv2.circle(image, tuple(center), radius, color, -1)\n",
        "            # Draw filled circle on the mask\n",
        "            cv2.circle(mask, tuple(center), radius, 255, -1)\n",
        "\n",
        "        elif shape == 'square':\n",
        "            # select the top-left corner's coordinates of the square randomly\n",
        "            top_left = np.random.randint(20, size[0] - 70, 2)\n",
        "            # select the side of the square randomly\n",
        "            square_side = np.random.randint(30, 100)\n",
        "            # calculate the bottom right corner's coordinates\n",
        "            bottom_right = top_left + square_side\n",
        "            # generate a random color for the square\n",
        "            color = tuple(np.random.randint(0, 256, 3).tolist())\n",
        "            # Draw filled square\n",
        "            cv2.rectangle(image, tuple(top_left), tuple(bottom_right), color, -1)\n",
        "            # Draw filled rectangle on the mask\n",
        "            cv2.rectangle(mask, tuple(top_left), tuple(bottom_right), 255, -1)\n",
        "\n",
        "        elif shape == 'triangle':\n",
        "            # select the 3 points' coordinates of the triangle randomly\n",
        "            pt1 = np.random.randint(20, size[0] - 70, 2)\n",
        "            pt2 = pt1 + [np.random.randint(30, 100), 0]\n",
        "            pt3 = pt1 + [np.random.randint(20, 60), np.random.randint(30, 90)]\n",
        "            points = np.array([pt1, pt2, pt3], np.int32)\n",
        "            # generate a random color for the triangle\n",
        "            color = tuple(np.random.randint(0, 256, 3).tolist())\n",
        "            # Draw filled triangle\n",
        "            cv2.fillPoly(image, [points], color)\n",
        "            # Draw filled triangle on the mask\n",
        "            cv2.fillPoly(mask, [points], 255)\n",
        "\n",
        "    return image, mask\n",
        "\n",
        "# Example usage:\n",
        "image, mask = generate_image_with_mask()\n",
        "\n",
        "# Show the generated image and mask\n",
        "cv2_imshow(image)\n",
        "cv2_imshow(mask)\n",
        "cv2.waitKey(0)\n",
        "cv2.destroyAllWindows()"
      ]
    },
    {
      "cell_type": "markdown",
      "metadata": {
        "id": "MqRDfURgRMW4"
      },
      "source": [
        "## mounting drive to store our images and their corresponding masks"
      ]
    },
    {
      "cell_type": "code",
      "execution_count": 5,
      "metadata": {
        "colab": {
          "base_uri": "https://localhost:8080/"
        },
        "id": "W7pIrIKXLCNh",
        "outputId": "9a7c38a3-5eb2-480c-a1f2-862307170826"
      },
      "outputs": [
        {
          "output_type": "stream",
          "name": "stdout",
          "text": [
            "Mounted at /content/drive\n"
          ]
        }
      ],
      "source": [
        "from google.colab import drive\n",
        "\n",
        "drive.mount('/content/drive')"
      ]
    },
    {
      "cell_type": "markdown",
      "metadata": {
        "id": "ET8v_JJJRWiN"
      },
      "source": [
        "## defining our directory path where we want to save our images and masks"
      ]
    },
    {
      "cell_type": "code",
      "execution_count": 6,
      "metadata": {
        "id": "gB77BltYLWfp"
      },
      "outputs": [],
      "source": [
        "import os\n",
        "# Define the directory where you want to save the images in your Google Drive\n",
        "img_dir = \"/content/drive/My Drive/img_dataset\"\n",
        "mask_dir = \"/content/drive/My Drive/mask_dataset\""
      ]
    },
    {
      "cell_type": "markdown",
      "metadata": {
        "id": "8FgKyzcoRjIq"
      },
      "source": [
        "### setting seed for same kind of output on any device"
      ]
    },
    {
      "cell_type": "code",
      "execution_count": 7,
      "metadata": {
        "id": "DKYKcqNILZf3"
      },
      "outputs": [],
      "source": [
        "import tensorflow as tf\n",
        "import numpy as np\n",
        "\n",
        "# Set random seed for TensorFlow\n",
        "tf.random.set_seed(42)\n",
        "\n",
        "# Set random seed for NumPy\n",
        "np.random.seed(42)"
      ]
    },
    {
      "cell_type": "markdown",
      "metadata": {
        "id": "GKNAHFnRRs89"
      },
      "source": [
        "### Here we are creating and storing our images and masks at their assigned loactions at the google drive"
      ]
    },
    {
      "cell_type": "code",
      "execution_count": 8,
      "metadata": {
        "id": "EGNGX3XsLZa1"
      },
      "outputs": [],
      "source": [
        "# Create the image directory if it doesn't exist\n",
        "if not os.path.exists(img_dir):\n",
        "    os.makedirs(img_dir)\n",
        "\n",
        "# Create the mask directory if it doesn't exist\n",
        "if not os.path.exists(mask_dir):\n",
        "    os.makedirs(mask_dir)\n",
        "\n",
        "img_filenames = []\n",
        "mask_filenames = []\n",
        "\n",
        "# Create a function to save synthetic images and their corresponding masks\n",
        "def save_images_with_masks(num_images=2000):\n",
        "    for i in range(num_images):\n",
        "        # Generate the synthetic image and mask\n",
        "        image, mask = generate_image_with_mask()\n",
        "\n",
        "        # Define the filenames for the image and mask\n",
        "        img_filename = os.path.join(img_dir, f\"image_{i}.png\")\n",
        "        img_filenames.append(img_filename)\n",
        "        mask_filename = os.path.join(mask_dir, f\"mask_{i}.png\")\n",
        "        mask_filenames.append(mask_filename)\n",
        "\n",
        "        # Save the image and mask\n",
        "        cv2.imwrite(img_filename, image)\n",
        "        cv2.imwrite(mask_filename, mask)\n",
        "\n",
        "# Define the function to generate synthetic images with corresponding masks\n",
        "save_images_with_masks()"
      ]
    },
    {
      "cell_type": "markdown",
      "metadata": {
        "id": "jVy-7eIDSBXc"
      },
      "source": [
        "# This is our heart of the process, our U-NET architecture"
      ]
    },
    {
      "cell_type": "code",
      "execution_count": 9,
      "metadata": {
        "colab": {
          "base_uri": "https://localhost:8080/"
        },
        "id": "nEcYfizKZ8J-",
        "outputId": "a5132e9e-d6f6-4d47-9ade-93d24eda6b66"
      },
      "outputs": [
        {
          "output_type": "stream",
          "name": "stderr",
          "text": [
            "WARNING:tensorflow:`input_shape` is undefined or non-square, or `rows` is not in [96, 128, 160, 192, 224]. Weights for input shape (224, 224) will be loaded as the default.\n"
          ]
        },
        {
          "output_type": "stream",
          "name": "stdout",
          "text": [
            "Downloading data from https://storage.googleapis.com/tensorflow/keras-applications/mobilenet_v2/mobilenet_v2_weights_tf_dim_ordering_tf_kernels_1.0_224_no_top.h5\n",
            "9406464/9406464 [==============================] - 1s 0us/step\n",
            "Model: \"model\"\n",
            "__________________________________________________________________________________________________\n",
            " Layer (type)                Output Shape                 Param #   Connected to                  \n",
            "==================================================================================================\n",
            " input_1 (InputLayer)        [(None, 256, 256, 3)]        0         []                            \n",
            "                                                                                                  \n",
            " mobilenetv2_1.00_224 (Func  (None, 8, 8, 1280)           2257984   ['input_1[0][0]']             \n",
            " tional)                                                                                          \n",
            "                                                                                                  \n",
            " up_sampling2d (UpSampling2  (None, 256, 256, 1280)       0         ['mobilenetv2_1.00_224[0][0]']\n",
            " D)                                                                                               \n",
            "                                                                                                  \n",
            " conv2d (Conv2D)             (None, 256, 256, 3)          34563     ['up_sampling2d[0][0]']       \n",
            "                                                                                                  \n",
            " activation (Activation)     (None, 256, 256, 3)          0         ['conv2d[0][0]']              \n",
            "                                                                                                  \n",
            " conv2d_1 (Conv2D)           (None, 256, 256, 64)         1792      ['activation[0][0]']          \n",
            "                                                                                                  \n",
            " activation_1 (Activation)   (None, 256, 256, 64)         0         ['conv2d_1[0][0]']            \n",
            "                                                                                                  \n",
            " batch_normalization (Batch  (None, 256, 256, 64)         256       ['activation_1[0][0]']        \n",
            " Normalization)                                                                                   \n",
            "                                                                                                  \n",
            " conv2d_2 (Conv2D)           (None, 256, 256, 64)         36928     ['batch_normalization[0][0]'] \n",
            "                                                                                                  \n",
            " activation_2 (Activation)   (None, 256, 256, 64)         0         ['conv2d_2[0][0]']            \n",
            "                                                                                                  \n",
            " batch_normalization_1 (Bat  (None, 256, 256, 64)         256       ['activation_2[0][0]']        \n",
            " chNormalization)                                                                                 \n",
            "                                                                                                  \n",
            " max_pooling2d (MaxPooling2  (None, 128, 128, 64)         0         ['batch_normalization_1[0][0]'\n",
            " D)                                                                 ]                             \n",
            "                                                                                                  \n",
            " conv2d_3 (Conv2D)           (None, 128, 128, 128)        73856     ['max_pooling2d[0][0]']       \n",
            "                                                                                                  \n",
            " activation_3 (Activation)   (None, 128, 128, 128)        0         ['conv2d_3[0][0]']            \n",
            "                                                                                                  \n",
            " batch_normalization_2 (Bat  (None, 128, 128, 128)        512       ['activation_3[0][0]']        \n",
            " chNormalization)                                                                                 \n",
            "                                                                                                  \n",
            " conv2d_4 (Conv2D)           (None, 128, 128, 128)        147584    ['batch_normalization_2[0][0]'\n",
            "                                                                    ]                             \n",
            "                                                                                                  \n",
            " activation_4 (Activation)   (None, 128, 128, 128)        0         ['conv2d_4[0][0]']            \n",
            "                                                                                                  \n",
            " batch_normalization_3 (Bat  (None, 128, 128, 128)        512       ['activation_4[0][0]']        \n",
            " chNormalization)                                                                                 \n",
            "                                                                                                  \n",
            " max_pooling2d_1 (MaxPoolin  (None, 64, 64, 128)          0         ['batch_normalization_3[0][0]'\n",
            " g2D)                                                               ]                             \n",
            "                                                                                                  \n",
            " conv2d_5 (Conv2D)           (None, 64, 64, 256)          295168    ['max_pooling2d_1[0][0]']     \n",
            "                                                                                                  \n",
            " activation_5 (Activation)   (None, 64, 64, 256)          0         ['conv2d_5[0][0]']            \n",
            "                                                                                                  \n",
            " batch_normalization_4 (Bat  (None, 64, 64, 256)          1024      ['activation_5[0][0]']        \n",
            " chNormalization)                                                                                 \n",
            "                                                                                                  \n",
            " dropout (Dropout)           (None, 64, 64, 256)          0         ['batch_normalization_4[0][0]'\n",
            "                                                                    ]                             \n",
            "                                                                                                  \n",
            " conv2d_6 (Conv2D)           (None, 64, 64, 256)          590080    ['dropout[0][0]']             \n",
            "                                                                                                  \n",
            " activation_6 (Activation)   (None, 64, 64, 256)          0         ['conv2d_6[0][0]']            \n",
            "                                                                                                  \n",
            " batch_normalization_5 (Bat  (None, 64, 64, 256)          1024      ['activation_6[0][0]']        \n",
            " chNormalization)                                                                                 \n",
            "                                                                                                  \n",
            " max_pooling2d_2 (MaxPoolin  (None, 32, 32, 256)          0         ['batch_normalization_5[0][0]'\n",
            " g2D)                                                               ]                             \n",
            "                                                                                                  \n",
            " conv2d_7 (Conv2D)           (None, 32, 32, 512)          1180160   ['max_pooling2d_2[0][0]']     \n",
            "                                                                                                  \n",
            " activation_7 (Activation)   (None, 32, 32, 512)          0         ['conv2d_7[0][0]']            \n",
            "                                                                                                  \n",
            " batch_normalization_6 (Bat  (None, 32, 32, 512)          2048      ['activation_7[0][0]']        \n",
            " chNormalization)                                                                                 \n",
            "                                                                                                  \n",
            " dropout_1 (Dropout)         (None, 32, 32, 512)          0         ['batch_normalization_6[0][0]'\n",
            "                                                                    ]                             \n",
            "                                                                                                  \n",
            " conv2d_8 (Conv2D)           (None, 32, 32, 512)          2359808   ['dropout_1[0][0]']           \n",
            "                                                                                                  \n",
            " activation_8 (Activation)   (None, 32, 32, 512)          0         ['conv2d_8[0][0]']            \n",
            "                                                                                                  \n",
            " batch_normalization_7 (Bat  (None, 32, 32, 512)          2048      ['activation_8[0][0]']        \n",
            " chNormalization)                                                                                 \n",
            "                                                                                                  \n",
            " max_pooling2d_3 (MaxPoolin  (None, 16, 16, 512)          0         ['batch_normalization_7[0][0]'\n",
            " g2D)                                                               ]                             \n",
            "                                                                                                  \n",
            " conv2d_9 (Conv2D)           (None, 16, 16, 1024)         4719616   ['max_pooling2d_3[0][0]']     \n",
            "                                                                                                  \n",
            " activation_9 (Activation)   (None, 16, 16, 1024)         0         ['conv2d_9[0][0]']            \n",
            "                                                                                                  \n",
            " batch_normalization_8 (Bat  (None, 16, 16, 1024)         4096      ['activation_9[0][0]']        \n",
            " chNormalization)                                                                                 \n",
            "                                                                                                  \n",
            " dropout_2 (Dropout)         (None, 16, 16, 1024)         0         ['batch_normalization_8[0][0]'\n",
            "                                                                    ]                             \n",
            "                                                                                                  \n",
            " conv2d_10 (Conv2D)          (None, 16, 16, 1024)         9438208   ['dropout_2[0][0]']           \n",
            "                                                                                                  \n",
            " activation_10 (Activation)  (None, 16, 16, 1024)         0         ['conv2d_10[0][0]']           \n",
            "                                                                                                  \n",
            " batch_normalization_9 (Bat  (None, 16, 16, 1024)         4096      ['activation_10[0][0]']       \n",
            " chNormalization)                                                                                 \n",
            "                                                                                                  \n",
            " up_sampling2d_1 (UpSamplin  (None, 32, 32, 1024)         0         ['batch_normalization_9[0][0]'\n",
            " g2D)                                                               ]                             \n",
            "                                                                                                  \n",
            " concatenate (Concatenate)   (None, 32, 32, 1536)         0         ['up_sampling2d_1[0][0]',     \n",
            "                                                                     'batch_normalization_7[0][0]'\n",
            "                                                                    ]                             \n",
            "                                                                                                  \n",
            " conv2d_11 (Conv2D)          (None, 32, 32, 512)          7078400   ['concatenate[0][0]']         \n",
            "                                                                                                  \n",
            " activation_11 (Activation)  (None, 32, 32, 512)          0         ['conv2d_11[0][0]']           \n",
            "                                                                                                  \n",
            " batch_normalization_10 (Ba  (None, 32, 32, 512)          2048      ['activation_11[0][0]']       \n",
            " tchNormalization)                                                                                \n",
            "                                                                                                  \n",
            " dropout_3 (Dropout)         (None, 32, 32, 512)          0         ['batch_normalization_10[0][0]\n",
            "                                                                    ']                            \n",
            "                                                                                                  \n",
            " conv2d_12 (Conv2D)          (None, 32, 32, 512)          2359808   ['dropout_3[0][0]']           \n",
            "                                                                                                  \n",
            " activation_12 (Activation)  (None, 32, 32, 512)          0         ['conv2d_12[0][0]']           \n",
            "                                                                                                  \n",
            " batch_normalization_11 (Ba  (None, 32, 32, 512)          2048      ['activation_12[0][0]']       \n",
            " tchNormalization)                                                                                \n",
            "                                                                                                  \n",
            " up_sampling2d_2 (UpSamplin  (None, 64, 64, 512)          0         ['batch_normalization_11[0][0]\n",
            " g2D)                                                               ']                            \n",
            "                                                                                                  \n",
            " concatenate_1 (Concatenate  (None, 64, 64, 768)          0         ['up_sampling2d_2[0][0]',     \n",
            " )                                                                   'batch_normalization_5[0][0]'\n",
            "                                                                    ]                             \n",
            "                                                                                                  \n",
            " conv2d_13 (Conv2D)          (None, 64, 64, 256)          1769728   ['concatenate_1[0][0]']       \n",
            "                                                                                                  \n",
            " activation_13 (Activation)  (None, 64, 64, 256)          0         ['conv2d_13[0][0]']           \n",
            "                                                                                                  \n",
            " batch_normalization_12 (Ba  (None, 64, 64, 256)          1024      ['activation_13[0][0]']       \n",
            " tchNormalization)                                                                                \n",
            "                                                                                                  \n",
            " dropout_4 (Dropout)         (None, 64, 64, 256)          0         ['batch_normalization_12[0][0]\n",
            "                                                                    ']                            \n",
            "                                                                                                  \n",
            " conv2d_14 (Conv2D)          (None, 64, 64, 256)          590080    ['dropout_4[0][0]']           \n",
            "                                                                                                  \n",
            " activation_14 (Activation)  (None, 64, 64, 256)          0         ['conv2d_14[0][0]']           \n",
            "                                                                                                  \n",
            " batch_normalization_13 (Ba  (None, 64, 64, 256)          1024      ['activation_14[0][0]']       \n",
            " tchNormalization)                                                                                \n",
            "                                                                                                  \n",
            " up_sampling2d_3 (UpSamplin  (None, 128, 128, 256)        0         ['batch_normalization_13[0][0]\n",
            " g2D)                                                               ']                            \n",
            "                                                                                                  \n",
            " concatenate_2 (Concatenate  (None, 128, 128, 384)        0         ['up_sampling2d_3[0][0]',     \n",
            " )                                                                   'batch_normalization_3[0][0]'\n",
            "                                                                    ]                             \n",
            "                                                                                                  \n",
            " conv2d_15 (Conv2D)          (None, 128, 128, 128)        442496    ['concatenate_2[0][0]']       \n",
            "                                                                                                  \n",
            " activation_15 (Activation)  (None, 128, 128, 128)        0         ['conv2d_15[0][0]']           \n",
            "                                                                                                  \n",
            " batch_normalization_14 (Ba  (None, 128, 128, 128)        512       ['activation_15[0][0]']       \n",
            " tchNormalization)                                                                                \n",
            "                                                                                                  \n",
            " conv2d_16 (Conv2D)          (None, 128, 128, 128)        147584    ['batch_normalization_14[0][0]\n",
            "                                                                    ']                            \n",
            "                                                                                                  \n",
            " activation_16 (Activation)  (None, 128, 128, 128)        0         ['conv2d_16[0][0]']           \n",
            "                                                                                                  \n",
            " batch_normalization_15 (Ba  (None, 128, 128, 128)        512       ['activation_16[0][0]']       \n",
            " tchNormalization)                                                                                \n",
            "                                                                                                  \n",
            " up_sampling2d_4 (UpSamplin  (None, 256, 256, 128)        0         ['batch_normalization_15[0][0]\n",
            " g2D)                                                               ']                            \n",
            "                                                                                                  \n",
            " concatenate_3 (Concatenate  (None, 256, 256, 192)        0         ['up_sampling2d_4[0][0]',     \n",
            " )                                                                   'batch_normalization_1[0][0]'\n",
            "                                                                    ]                             \n",
            "                                                                                                  \n",
            " conv2d_17 (Conv2D)          (None, 256, 256, 64)         110656    ['concatenate_3[0][0]']       \n",
            "                                                                                                  \n",
            " activation_17 (Activation)  (None, 256, 256, 64)         0         ['conv2d_17[0][0]']           \n",
            "                                                                                                  \n",
            " batch_normalization_16 (Ba  (None, 256, 256, 64)         256       ['activation_17[0][0]']       \n",
            " tchNormalization)                                                                                \n",
            "                                                                                                  \n",
            " conv2d_18 (Conv2D)          (None, 256, 256, 64)         36928     ['batch_normalization_16[0][0]\n",
            "                                                                    ']                            \n",
            "                                                                                                  \n",
            " activation_18 (Activation)  (None, 256, 256, 64)         0         ['conv2d_18[0][0]']           \n",
            "                                                                                                  \n",
            " batch_normalization_17 (Ba  (None, 256, 256, 64)         256       ['activation_18[0][0]']       \n",
            " tchNormalization)                                                                                \n",
            "                                                                                                  \n",
            " conv2d_19 (Conv2D)          (None, 256, 256, 1)          65        ['batch_normalization_17[0][0]\n",
            "                                                                    ']                            \n",
            "                                                                                                  \n",
            "==================================================================================================\n",
            "Total params: 33695044 (128.54 MB)\n",
            "Trainable params: 31425284 (119.88 MB)\n",
            "Non-trainable params: 2269760 (8.66 MB)\n",
            "__________________________________________________________________________________________________\n"
          ]
        }
      ],
      "source": [
        "import tensorflow as tf\n",
        "from tensorflow.keras.models import Model\n",
        "from tensorflow.keras.layers import Input, Conv2D, MaxPooling2D, UpSampling2D, Concatenate, BatchNormalization\n",
        "from tensorflow.keras.losses import BinaryCrossentropy\n",
        "from tensorflow.keras import backend as K\n",
        "from tensorflow.keras.layers import Activation\n",
        "from tensorflow.keras.layers import Dropout\n",
        "from tensorflow.keras.regularizers import l1\n",
        "from tensorflow.keras.applications import MobileNetV2\n",
        "\n",
        "# Define Mish activation function\n",
        "def mish(x):\n",
        "    return x * tf.math.tanh(tf.math.softplus(x))\n",
        "\n",
        "def unet(input_shape, num_classes):\n",
        "    # Define input layer\n",
        "    inputs = Input(input_shape)\n",
        "\n",
        "    # Load MobileNetV2 base model\n",
        "    base_model = MobileNetV2(input_shape=input_shape, include_top=False, weights='imagenet')\n",
        "\n",
        "    # Set the MobileNet layers as non-trainable\n",
        "    base_model.trainable = False\n",
        "\n",
        "    # Get layers from MobileNet\n",
        "    encoder_layers = base_model(inputs)\n",
        "    encoder_layers = UpSampling2D(size=(32, 32))(encoder_layers)\n",
        "    encoder_layers = Conv2D(3, 3, padding='same', kernel_regularizer=l1(0.001))(encoder_layers)\n",
        "    encoder_layers = Activation(mish)(encoder_layers)\n",
        "\n",
        "    # Contracting Path\n",
        "    conv1 = Conv2D(64, 3, padding='same', kernel_regularizer=l1(0.001))(encoder_layers)\n",
        "    conv1 = Activation(mish)(conv1)\n",
        "    conv1 = BatchNormalization()(conv1)\n",
        "    conv1 = Conv2D(64, 3, padding='same', kernel_regularizer=l1(0.001))(conv1)\n",
        "    conv1 = Activation(mish)(conv1)\n",
        "    conv1 = BatchNormalization()(conv1)\n",
        "    pool1 = MaxPooling2D(pool_size=(2, 2))(conv1)\n",
        "\n",
        "    conv2 = Conv2D(128, 3, padding='same', kernel_regularizer=l1(0.001))(pool1)\n",
        "    conv2 = Activation(mish)(conv2)\n",
        "    conv2 = BatchNormalization()(conv2)\n",
        "    conv2 = Conv2D(128, 3, padding='same', kernel_regularizer=l1(0.001))(conv2)\n",
        "    conv2 = Activation(mish)(conv2)\n",
        "    conv2 = BatchNormalization()(conv2)\n",
        "    pool2 = MaxPooling2D(pool_size=(2, 2))(conv2)\n",
        "\n",
        "    conv3 = Conv2D(256, 3, padding='same', kernel_regularizer=l1(0.001))(pool2)\n",
        "    conv3 = Activation(mish)(conv3)\n",
        "    conv3 = BatchNormalization()(conv3)\n",
        "    conv3 = Dropout(0.5)(conv3)  # Add dropout with a dropout rate of 0.5\n",
        "    conv3 = Conv2D(256, 3, padding='same', kernel_regularizer=l1(0.001))(conv3)\n",
        "    conv3 = Activation(mish)(conv3)\n",
        "    conv3 = BatchNormalization()(conv3)\n",
        "    pool3 = MaxPooling2D(pool_size=(2, 2))(conv3)\n",
        "\n",
        "    conv4 = Conv2D(512, 3, padding='same', kernel_regularizer=l1(0.001))(pool3)\n",
        "    conv4 = Activation(mish)(conv4)\n",
        "    conv4 = BatchNormalization()(conv4)\n",
        "    conv4 = Dropout(0.5)(conv4)  # Add dropout with a dropout rate of 0.5\n",
        "    conv4 = Conv2D(512, 3, padding='same', kernel_regularizer=l1(0.001))(conv4)\n",
        "    conv4 = Activation(mish)(conv4)\n",
        "    conv4 = BatchNormalization()(conv4)\n",
        "    pool4 = MaxPooling2D(pool_size=(2, 2))(conv4)\n",
        "\n",
        "    conv5 = Conv2D(1024, 3, padding='same', kernel_regularizer=l1(0.001))(pool4)\n",
        "    conv5 = Activation(mish)(conv5)\n",
        "    conv5 = BatchNormalization()(conv5)\n",
        "    conv5 = Dropout(0.5)(conv5)  # Add dropout with a dropout rate of 0.5\n",
        "    conv5 = Conv2D(1024, 3, padding='same', kernel_regularizer=l1(0.001))(conv5)\n",
        "    conv5 = Activation(mish)(conv5)\n",
        "    conv5 = BatchNormalization()(conv5)\n",
        "\n",
        "    # Expansive Path\n",
        "    up6 = Concatenate()([UpSampling2D(size=(2, 2))(conv5), conv4])\n",
        "    conv6 = Conv2D(512, 3, padding='same', kernel_regularizer=l1(0.001))(up6)\n",
        "    conv6 = Activation(mish)(conv6)\n",
        "    conv6 = BatchNormalization()(conv6)\n",
        "    conv6 = Dropout(0.5)(conv6)  # Add dropout with a dropout rate of 0.5\n",
        "    conv6 = Conv2D(512, 3, padding='same', kernel_regularizer=l1(0.001))(conv6)\n",
        "    conv6 = Activation(mish)(conv6)\n",
        "    conv6 = BatchNormalization()(conv6)\n",
        "\n",
        "    up7 = Concatenate()([UpSampling2D(size=(2, 2))(conv6), conv3])\n",
        "    conv7 = Conv2D(256, 3, padding='same', kernel_regularizer=l1(0.001))(up7)\n",
        "    conv7 = Activation(mish)(conv7)\n",
        "    conv7 = BatchNormalization()(conv7)\n",
        "    conv7 = Dropout(0.5)(conv7)  # Add dropout with a dropout rate of 0.5\n",
        "    conv7 = Conv2D(256, 3, padding='same', kernel_regularizer=l1(0.001))(conv7)\n",
        "    conv7 = Activation(mish)(conv7)\n",
        "    conv7 = BatchNormalization()(conv7)\n",
        "\n",
        "    up8 = Concatenate()([UpSampling2D(size=(2, 2))(conv7), conv2])\n",
        "    conv8 = Conv2D(128, 3, padding='same', kernel_regularizer=l1(0.001))(up8)\n",
        "    conv8 = Activation(mish)(conv8)\n",
        "    conv8 = BatchNormalization()(conv8)\n",
        "    conv8 = Conv2D(128, 3, padding='same', kernel_regularizer=l1(0.001))(conv8)\n",
        "    conv8 = Activation(mish)(conv8)\n",
        "    conv8 = BatchNormalization()(conv8)\n",
        "\n",
        "    up9 = Concatenate()([UpSampling2D(size=(2, 2))(conv8), conv1])\n",
        "    conv9 = Conv2D(64, 3, padding='same', kernel_regularizer=l1(0.001))(up9)\n",
        "    conv9 = Activation(mish)(conv9)\n",
        "    conv9 = BatchNormalization()(conv9)\n",
        "    conv9 = Conv2D(64, 3, padding='same', kernel_regularizer=l1(0.001))(conv9)\n",
        "    conv9 = Activation(mish)(conv9)\n",
        "    conv9 = BatchNormalization()(conv9)\n",
        "\n",
        "    outputs = Conv2D(num_classes, 1, activation='sigmoid')(conv9)\n",
        "\n",
        "    model = Model(inputs=[inputs], outputs=[outputs])\n",
        "\n",
        "    return model\n",
        "\n",
        "# Define Binary Cross-Entropy (BCE) Loss\n",
        "bce_loss = BinaryCrossentropy()\n",
        "\n",
        "# Use BCE Loss instead of Dice Loss\n",
        "def bce_loss_wrapper(y_true, y_pred):\n",
        "    return bce_loss(y_true, y_pred)\n",
        "\n",
        "# Define input shape and number of classes\n",
        "input_shape = (256, 256, 3)\n",
        "num_classes = 1\n",
        "\n",
        "# Create U-Net model\n",
        "model = unet(input_shape, num_classes)\n",
        "\n",
        "# Compile the model with Dice loss\n",
        "model.compile(optimizer='adam', loss=bce_loss_wrapper, metrics=['accuracy'])\n",
        "\n",
        "# Summary of the model\n",
        "model.summary()\n"
      ]
    },
    {
      "cell_type": "markdown",
      "metadata": {
        "id": "2JsDoolXSWaS"
      },
      "source": [
        "### This code is used to create a class for **preprocessing** and preparing our data for **training** and **validating**"
      ]
    },
    {
      "cell_type": "code",
      "execution_count": 10,
      "metadata": {
        "id": "UMxNG6FmLkLM"
      },
      "outputs": [],
      "source": [
        "import albumentations as A\n",
        "\n",
        "class CustomDataset(tf.keras.utils.Sequence):\n",
        "    def __init__(self, img_dir, mask_dir, img_filenames, mask_filenames, batch_size, image_size, shuffle):\n",
        "        self.batch_size = batch_size\n",
        "        self.image_size = image_size\n",
        "        self.img_dir = img_dir\n",
        "        self.mask_dir = mask_dir\n",
        "        self.shuffle = shuffle\n",
        "        self.img_filenames = img_filenames\n",
        "        self.mask_filenames = mask_filenames\n",
        "        self.indexes = np.arange(len(self.img_filenames))\n",
        "\n",
        "        # Define the augmentation transformations\n",
        "        self.transform = A.Compose([\n",
        "            # Randomly crop and resize the images\n",
        "            A.RandomResizedCrop(256, 256),\n",
        "            # Randomly flip the images horizontally\n",
        "            A.HorizontalFlip(p=0.5),\n",
        "            # Randomly flip the images vertically\n",
        "            A.VerticalFlip(p=0.5),\n",
        "            # Adjust brightness, contrast, saturation, and hue\n",
        "            A.RandomBrightnessContrast(brightness_limit=0.2, contrast_limit=0.2, p=0.5),\n",
        "            A.HueSaturationValue(hue_shift_limit=20, sat_shift_limit=20, val_shift_limit=20, p=0.5),\n",
        "            # Randomly rotate the images\n",
        "            A.Rotate(limit=20, p=0.5),\n",
        "            # Normalize image\n",
        "            A.Normalize(mean=[0.485, 0.456, 0.406], std=[0.229, 0.224, 0.225]),\n",
        "        ])\n",
        "\n",
        "    def __len__(self):\n",
        "        return len(self.img_filenames) // self.batch_size\n",
        "\n",
        "    def __getitem__(self, index):\n",
        "      index = int(index)  # Convert index to integer explicitly\n",
        "\n",
        "      # Get the indices for the current batch\n",
        "      start_idx = index * self.batch_size\n",
        "      end_idx = (index + 1) * self.batch_size\n",
        "\n",
        "      # Get the actual indices for the current batch\n",
        "      batch_indices = self.indexes[start_idx:end_idx]\n",
        "\n",
        "      images = []\n",
        "      masks = []\n",
        "\n",
        "      for idx in batch_indices:  # Use batch_indices instead of indexes\n",
        "        img_name = self.img_filenames[idx]\n",
        "        mask_name = self.mask_filenames[idx]\n",
        "\n",
        "        img_path = os.path.join(self.img_dir, img_name)\n",
        "        mask_path = os.path.join(self.mask_dir, mask_name)\n",
        "\n",
        "        # Read images and masks\n",
        "        image = cv2.imread(img_path)\n",
        "        mask = cv2.imread(mask_path, cv2.IMREAD_GRAYSCALE)\n",
        "\n",
        "        # Resize images and masks\n",
        "        image = cv2.resize(image, self.image_size)\n",
        "        mask = cv2.resize(mask, self.image_size)\n",
        "\n",
        "        # Apply data augmentation\n",
        "        augmented = self.transform(image=image, mask=mask)\n",
        "        image = augmented['image']\n",
        "        mask = augmented['mask']\n",
        "\n",
        "        images.append(image)\n",
        "        masks.append(mask)\n",
        "\n",
        "      return np.array(images), np.array(masks)"
      ]
    },
    {
      "cell_type": "markdown",
      "metadata": {
        "id": "P31M0nI4S1K_"
      },
      "source": [
        "## The below code creates training and validating sets and fits them into our model to calculate usefull metrices like **loss** and **accuracy**"
      ]
    },
    {
      "cell_type": "code",
      "execution_count": null,
      "metadata": {
        "colab": {
          "base_uri": "https://localhost:8080/"
        },
        "id": "3c33p7ZVLqme",
        "outputId": "f9d19802-7023-4a34-d0f2-ec7b6d879aad"
      },
      "outputs": [
        {
          "output_type": "stream",
          "name": "stdout",
          "text": [
            "Epoch 1/10\n",
            " 10/200 [>.............................] - ETA: 5:17:13 - loss: 39.0985 - accuracy: 0.6441"
          ]
        }
      ],
      "source": [
        "from sklearn.model_selection import train_test_split\n",
        "from tensorflow.keras.callbacks import ReduceLROnPlateau\n",
        "\n",
        "X_train, X_val, y_train, y_val = train_test_split(img_filenames, mask_filenames, test_size=0.2, random_state=42)\n",
        "\n",
        "training_dataset = CustomDataset(img_dir, mask_dir, X_train, y_train, batch_size=8, image_size=(256, 256), shuffle=False)\n",
        "validation_dataset = CustomDataset(img_dir, mask_dir, X_val, y_val, batch_size=8, image_size=(256, 256), shuffle=False)\n",
        "\n",
        "# Train your model\n",
        "num_epochs = 10\n",
        "reduce_lr = ReduceLROnPlateau(monitor='val_loss', factor=0.2, patience=3, min_lr=1e-6)\n",
        "history = model.fit(training_dataset, epochs=num_epochs, validation_data=validation_dataset, callbacks=[reduce_lr])\n",
        "\n",
        "# Evaluate your model\n",
        "loss, accuracy = model.evaluate(validation_dataset)\n",
        "print(\"Validation Loss:\", loss)\n",
        "print(\"Validation Accuracy:\", accuracy)"
      ]
    }
  ],
  "metadata": {
    "accelerator": "GPU",
    "colab": {
      "provenance": []
    },
    "kernelspec": {
      "display_name": "Python 3",
      "name": "python3"
    },
    "language_info": {
      "name": "python"
    }
  },
  "nbformat": 4,
  "nbformat_minor": 0
}